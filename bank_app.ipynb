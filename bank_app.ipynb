{
 "cells": [
  {
   "cell_type": "code",
   "execution_count": 55,
   "metadata": {},
   "outputs": [],
   "source": [
    "def checkbalance():\n",
    "    print('Your account balance is:', balance)\n",
    "    menu()\n",
    "balance= 1000\n",
    "    "
   ]
  },
  {
   "cell_type": "code",
   "execution_count": 56,
   "metadata": {},
   "outputs": [],
   "source": [
    "def withdrawal():\n",
    "    print('Welcome!\\n')\n",
    "    withdraw= float(input('Type in amount'))\n",
    "    if withdraw <= balance:\n",
    "        print('Withdrawal Successful. Your available balance is:', balance-withdraw)\n",
    "        menu()\n",
    "    elif withdraw > balance:\n",
    "        print('Insufficient Balance')\n",
    "        menu()\n",
    "balance=1000"
   ]
  },
  {
   "cell_type": "code",
   "execution_count": 57,
   "metadata": {},
   "outputs": [],
   "source": [
    "def deposit():\n",
    "    amount= float(input('Enter amount to deposit'))\n",
    "    print('You have successfully deposited',amount)\n",
    "    menu()\n",
    "balance=1000"
   ]
  },
  {
   "cell_type": "code",
   "execution_count": 62,
   "metadata": {},
   "outputs": [],
   "source": [
    "def transfer():\n",
    "    beneficiary= int(input('Enter beneficiary account:\\n'))\n",
    "    if beneficiary in beneficiaries:\n",
    "        trans= int(input('Enter amount:\\n'))\n",
    "        if trans <= balance:\n",
    "            print('Successful!')\n",
    "            menu()\n",
    "        elif trans > balance:\n",
    "            print('Inssuficient balance')\n",
    "            menu()\n",
    "    elif beneficiary not in beneficiaries:\n",
    "        print('''Beneficiary not found\\n Add a beneficiary?\\n Press 1 for Yes\\n Press 2 for No\\n Press 3 to Quit\\n''')\n",
    "        answer= int(input('Enter number'))\n",
    "        if answer == 1:\n",
    "            add_bene=int(input('Enter beneficiary number:\\n'))\n",
    "            beneficiaries.append(add_bene)\n",
    "            transfer()\n",
    "        elif answer == 2:\n",
    "            transfer()\n",
    "        elif answer == 3:\n",
    "            print('Goodbye!')\n",
    "balance= 1000\n",
    "beneficiaries= [12345,67890,11121,14151]\n",
    "        \n",
    "            \n",
    "        "
   ]
  },
  {
   "cell_type": "code",
   "execution_count": 63,
   "metadata": {},
   "outputs": [],
   "source": [
    "def menu():\n",
    "    user_password= int(input('Enter your password\\n'))\n",
    "    if user_password in user_pass.values():\n",
    "        print(''' Press 1 to: Check balance\\nPress 2: to deposit\\n Press 3: to withdraw\\n Press 4: to transfer\\n Press 5: to quit\\n''')\n",
    "        transact=int(input('Enter a number to transact:\\n'))\n",
    "        if transact == 1:\n",
    "            checkbalance()\n",
    "        elif transact == 2:\n",
    "            deposit()\n",
    "        elif transact == 3:\n",
    "            withdrawal() \n",
    "        elif transact == 4:\n",
    "            transfer()\n",
    "        elif transact == 5:\n",
    "            print('Goodbye!')"
   ]
  },
  {
   "cell_type": "code",
   "execution_count": 66,
   "metadata": {},
   "outputs": [],
   "source": [
    "def opener():\n",
    "    print(''' Press 1 to: Create Account\\n Press 2 to: Start a transaction\\n Press 3 to quit''')\n",
    "    try:\n",
    "        app= int(input('Type in a number\\n'))\n",
    "        if app == 1:\n",
    "            username= input('Enter a username\\n')\n",
    "            password= input('Enter a password\\n')\n",
    "            user_pass[username]= password\n",
    "            print('Welcome to FinTech!')\n",
    "            opener()\n",
    "        elif app == 2:\n",
    "            menu()\n",
    "        elif user_password not in user_pass.values():\n",
    "                print('Incorrect Password')\n",
    "                opener()\n",
    "                \n",
    "    except ValueError:\n",
    "        print('Oops! Enter an Integer')\n",
    "        opener()\n",
    "        \n",
    "balance= 1000\n",
    "user_pass= {'segun@gmail.com': 2020}\n",
    "\n",
    "\n"
   ]
  },
  {
   "cell_type": "code",
   "execution_count": null,
   "metadata": {},
   "outputs": [],
   "source": [
    "opener()"
   ]
  }
 ],
 "metadata": {
  "kernelspec": {
   "display_name": "Python 3",
   "language": "python",
   "name": "python3"
  },
  "language_info": {
   "codemirror_mode": {
    "name": "ipython",
    "version": 3
   },
   "file_extension": ".py",
   "mimetype": "text/x-python",
   "name": "python",
   "nbconvert_exporter": "python",
   "pygments_lexer": "ipython3",
   "version": "3.7.4"
  }
 },
 "nbformat": 4,
 "nbformat_minor": 2
}
